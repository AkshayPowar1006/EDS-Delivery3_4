{
 "cells": [
  {
   "cell_type": "markdown",
   "id": "72d55961",
   "metadata": {},
   "source": [
    "# Forecasting - Forecasting Prophet"
   ]
  },
  {
   "cell_type": "markdown",
   "id": "2d557410",
   "metadata": {},
   "source": [
    "https://facebook.github.io/prophet/\n",
    "\n",
    "https://research.fb.com/blog/2017/02/prophet-forecasting-at-scale/"
   ]
  },
  {
   "cell_type": "code",
   "execution_count": 1,
   "id": "15f01e0b",
   "metadata": {},
   "outputs": [],
   "source": [
    "import pandas as pd\n",
    "import numpy as np\n",
    "import matplotlib as mpl\n",
    "import matplotlib.pyplot as plt\n"
   ]
  },
  {
   "cell_type": "code",
   "execution_count": 2,
   "id": "12b119f2",
   "metadata": {
    "scrolled": true
   },
   "outputs": [
    {
     "ename": "ModuleNotFoundError",
     "evalue": "No module named 'prophet'",
     "output_type": "error",
     "traceback": [
      "\u001b[1;31m---------------------------------------------------------------------------\u001b[0m",
      "\u001b[1;31mModuleNotFoundError\u001b[0m                       Traceback (most recent call last)",
      "\u001b[1;32m<ipython-input-2-943fae39a63d>\u001b[0m in \u001b[0;36m<module>\u001b[1;34m\u001b[0m\n\u001b[0;32m      1\u001b[0m \u001b[1;31m#attention might have problems with holiday package,\u001b[0m\u001b[1;33m\u001b[0m\u001b[1;33m\u001b[0m\u001b[1;33m\u001b[0m\u001b[0m\n\u001b[0;32m      2\u001b[0m \u001b[1;31m#downgrate holidays via: pip install 'holidays==0.9.12'\u001b[0m\u001b[1;33m\u001b[0m\u001b[1;33m\u001b[0m\u001b[1;33m\u001b[0m\u001b[0m\n\u001b[1;32m----> 3\u001b[1;33m \u001b[1;32mfrom\u001b[0m \u001b[0mprophet\u001b[0m \u001b[1;32mimport\u001b[0m \u001b[0mProphet\u001b[0m\u001b[1;33m\u001b[0m\u001b[1;33m\u001b[0m\u001b[0m\n\u001b[0m",
      "\u001b[1;31mModuleNotFoundError\u001b[0m: No module named 'prophet'"
     ]
    }
   ],
   "source": [
    "#attention might have problems with holiday package, \n",
    "#downgrate holidays via: pip install 'holidays==0.9.12'\n",
    "from prophet import Prophet "
   ]
  },
  {
   "cell_type": "code",
   "execution_count": null,
   "id": "d44477c7",
   "metadata": {},
   "outputs": [],
   "source": [
    "%matplotlib inline\n",
    "plt.style.use('fivethirtyeight')\n"
   ]
  },
  {
   "cell_type": "markdown",
   "id": "d454aee6",
   "metadata": {},
   "source": [
    "# Trivial Forecast (rollingMean)"
   ]
  },
  {
   "cell_type": "code",
   "execution_count": null,
   "id": "0e4265fb",
   "metadata": {},
   "outputs": [],
   "source": [
    "# the final trivial model is at the end of this file\n",
    "\n",
    "df = pd.DataFrame({'X': np.arange(0,10)}) # generate an input df\n",
    "df['y']=df.rolling(3).mean() # take the window and write the average as the result"
   ]
  },
  {
   "cell_type": "code",
   "execution_count": null,
   "id": "79d8b8a3",
   "metadata": {},
   "outputs": [],
   "source": [
    "df"
   ]
  },
  {
   "cell_type": "markdown",
   "id": "a40e6e65",
   "metadata": {},
   "source": [
    "\n",
    "# Small Data Set"
   ]
  },
  {
   "cell_type": "code",
   "execution_count": null,
   "id": "02506504",
   "metadata": {},
   "outputs": [],
   "source": [
    "df_all = pd.read_csv('../data/processed/COVID_small_flattable.csv',sep=';')\n",
    "df=df_all[['date','India']]\n",
    "df=df.rename(columns={'date': 'ds',\n",
    "                        'India': 'y'})"
   ]
  },
  {
   "cell_type": "code",
   "execution_count": null,
   "id": "55580469",
   "metadata": {
    "scrolled": true
   },
   "outputs": [],
   "source": [
    "ax = df.set_index('ds').plot(figsize=(12, 8),\n",
    "                             logy=True)\n",
    "ax.set_ylabel('Daily Number of confimed cases')\n",
    "ax.set_xlabel('Date')\n",
    "\n",
    "plt.show()"
   ]
  },
  {
   "cell_type": "code",
   "execution_count": null,
   "id": "5da5e916",
   "metadata": {},
   "outputs": [],
   "source": [
    "# set the uncertainty interval to 95% (the Prophet default is 80%)\n",
    "\n",
    "my_model = Prophet(interval_width=0.95)\n",
    "my_model.fit(df)"
   ]
  },
  {
   "cell_type": "code",
   "execution_count": null,
   "id": "1a3f0ee8",
   "metadata": {},
   "outputs": [],
   "source": [
    "future_dates = my_model.make_future_dataframe(periods=7, freq='D')"
   ]
  },
  {
   "cell_type": "code",
   "execution_count": null,
   "id": "47cb016e",
   "metadata": {},
   "outputs": [],
   "source": [
    "# predict according to the scikit-learn standard\n",
    "\n",
    "forecast = my_model.predict(future_dates)"
   ]
  },
  {
   "cell_type": "code",
   "execution_count": null,
   "id": "2982d39e",
   "metadata": {},
   "outputs": [],
   "source": [
    "my_model.plot(forecast,\n",
    "              uncertainty=True ); # since fbprohet is rendering the output"
   ]
  },
  {
   "cell_type": "code",
   "execution_count": null,
   "id": "8aa52d08",
   "metadata": {},
   "outputs": [],
   "source": [
    "import plotly.offline as py\n",
    "from fbprophet.plot import plot_plotly\n",
    "\n",
    "fig = plot_plotly(my_model, forecast)  # This returns a plotly Figure\n",
    "\n",
    "fig.update_layout(\n",
    "    width=1024,\n",
    "    height=900,\n",
    "    xaxis_title=\"Time\",\n",
    "    yaxis_title=\"Confirmed infected people (source johns hopkins csse, log-scale)\",\n",
    ")\n",
    "fig.update_yaxes(type=\"log\",range=[1.1,5.5])\n",
    "py.iplot(fig)"
   ]
  },
  {
   "cell_type": "code",
   "execution_count": null,
   "id": "e7ce5ec3",
   "metadata": {},
   "outputs": [],
   "source": [
    "forecast.sort_values(by='ds').head()"
   ]
  },
  {
   "cell_type": "code",
   "execution_count": null,
   "id": "bf829e2b",
   "metadata": {},
   "outputs": [],
   "source": [
    "my_model.plot_components(forecast);"
   ]
  },
  {
   "cell_type": "code",
   "execution_count": null,
   "id": "9f89cbf7",
   "metadata": {},
   "outputs": [],
   "source": [
    "forecast[['ds','trend']].set_index('ds').plot(figsize=(12, 8),logy=True)"
   ]
  },
  {
   "cell_type": "markdown",
   "id": "8def4229",
   "metadata": {},
   "source": [
    "# Cross Validation"
   ]
  },
  {
   "cell_type": "code",
   "execution_count": null,
   "id": "05ed7d62",
   "metadata": {},
   "outputs": [],
   "source": [
    "from fbprophet.diagnostics import cross_validation\n",
    "df_cv = cross_validation(my_model, \n",
    "                         initial='40 days', # we take the first 30 days for training\n",
    "                         period='1 days',  # every  days a new prediction run\n",
    "                         horizon = '7 days') #we predict 7days into the future"
   ]
  },
  {
   "cell_type": "code",
   "execution_count": null,
   "id": "75861520",
   "metadata": {},
   "outputs": [],
   "source": [
    "df_cv.sort_values(by=['cutoff','ds'])[0:12]\n",
    "df_cv.head()"
   ]
  },
  {
   "cell_type": "code",
   "execution_count": null,
   "id": "a2b464a2",
   "metadata": {},
   "outputs": [],
   "source": [
    "from fbprophet.diagnostics import performance_metrics\n",
    "df_p = performance_metrics(df_cv)"
   ]
  },
  {
   "cell_type": "code",
   "execution_count": null,
   "id": "358f33ec",
   "metadata": {},
   "outputs": [],
   "source": [
    "# the performance matrix shows the result for all horizon\n",
    "df_p"
   ]
  },
  {
   "cell_type": "code",
   "execution_count": null,
   "id": "f86cc580",
   "metadata": {},
   "outputs": [],
   "source": [
    "from fbprophet.plot import plot_cross_validation_metric\n",
    "fig = plot_cross_validation_metric(df_cv, metric='mape',)"
   ]
  },
  {
   "cell_type": "markdown",
   "id": "69d229fe",
   "metadata": {},
   "source": [
    "# Diagonal Plot"
   ]
  },
  {
   "cell_type": "code",
   "execution_count": null,
   "id": "ce5ebe51",
   "metadata": {},
   "outputs": [],
   "source": [
    "horizon='7 days'\n",
    "df_cv['horizon']=df_cv.ds-df_cv.cutoff\n",
    "\n",
    "date_vec=df_cv[df_cv['horizon']==horizon]['ds']\n",
    "y_hat=df_cv[df_cv['horizon']==horizon]['yhat']\n",
    "y=df_cv[df_cv['horizon']==horizon]['y']"
   ]
  },
  {
   "cell_type": "code",
   "execution_count": null,
   "id": "e078e992",
   "metadata": {},
   "outputs": [],
   "source": [
    "df_cv_7=df_cv[df_cv['horizon']==horizon]\n",
    "df_cv_7.tail()"
   ]
  },
  {
   "cell_type": "code",
   "execution_count": null,
   "id": "ee4494ef",
   "metadata": {},
   "outputs": [],
   "source": [
    "type(df_cv['horizon'][0])"
   ]
  },
  {
   "cell_type": "code",
   "execution_count": null,
   "id": "744c5a13",
   "metadata": {},
   "outputs": [],
   "source": [
    "fig, ax = plt.subplots(1, 1)\n",
    "\n",
    "\n",
    "ax.plot(np.arange(max(y)),np.arange(max(y)),'--',label='diagonal')\n",
    "ax.plot(y,y_hat,'-',label=horizon)  # horizon is a np.timedelta objct\n",
    "\n",
    "ax.set_title('Diagonal Plot')\n",
    "ax.set_ylim(10, max(y))\n",
    "\n",
    "ax.set_xlabel('truth: y')\n",
    "ax.set_ylabel('prediciton: y_hat')\n",
    "ax.set_yscale('log')\n",
    "\n",
    "ax.set_xlim(10, max(y))\n",
    "ax.set_xscale('log')\n",
    "ax.legend(loc='best',\n",
    "           prop={'size': 16});"
   ]
  },
  {
   "cell_type": "markdown",
   "id": "ec8936e4",
   "metadata": {},
   "source": [
    "# Trivial Forecast"
   ]
  },
  {
   "cell_type": "code",
   "execution_count": null,
   "id": "a48561f6",
   "metadata": {},
   "outputs": [],
   "source": [
    "def mean_absolute_percentage_error(y_true, y_pred): \n",
    "    ''' MAPE calculation '''\n",
    "    y_true, y_pred = np.array(y_true), np.array(y_pred)\n",
    "    return np.mean(np.abs((y_true - y_pred) / y_true)) * 100"
   ]
  },
  {
   "cell_type": "code",
   "execution_count": null,
   "id": "8025be10",
   "metadata": {},
   "outputs": [],
   "source": [
    "parse_dates=['date']\n",
    "df_all = pd.read_csv('../data/processed/COVID_small_flattable.csv',sep=';',parse_dates=parse_dates)\n",
    "df_trivial=df_all[['date','India']]\n",
    "df_trivial=df_trivial.rename(columns={'date': 'ds',\n",
    "                        'India': 'y'})"
   ]
  },
  {
   "cell_type": "code",
   "execution_count": null,
   "id": "03f1414b",
   "metadata": {},
   "outputs": [],
   "source": [
    "df_trivial['y_mean_r3']=df_trivial.y.rolling(3).mean() # take the average of 3 days"
   ]
  },
  {
   "cell_type": "code",
   "execution_count": null,
   "id": "9b28b92a",
   "metadata": {},
   "outputs": [],
   "source": [
    "# the result has to be shifted according to the prediciton horizon (here 7 days)\n",
    "\n",
    "df_trivial['cutoff']=df_trivial['ds'].shift(7)\n",
    "df_trivial['y_hat']=df_trivial['y_mean_r3'].shift(7)\n",
    "df_trivial['horizon']=df_trivial['ds']-df_trivial['cutoff']\n",
    "print('MAPE: '+str(mean_absolute_percentage_error(df_trivial['y_hat'].iloc[12:,], df_trivial['y'].iloc[12:,])))\n",
    "df_trivial"
   ]
  },
  {
   "cell_type": "code",
   "execution_count": null,
   "id": "3cf6bdf6",
   "metadata": {},
   "outputs": [],
   "source": []
  }
 ],
 "metadata": {
  "kernelspec": {
   "display_name": "Python 3",
   "language": "python",
   "name": "python3"
  },
  "language_info": {
   "codemirror_mode": {
    "name": "ipython",
    "version": 3
   },
   "file_extension": ".py",
   "mimetype": "text/x-python",
   "name": "python",
   "nbconvert_exporter": "python",
   "pygments_lexer": "ipython3",
   "version": "3.8.8"
  }
 },
 "nbformat": 4,
 "nbformat_minor": 5
}
